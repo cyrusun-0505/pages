{
 "cells": [
  {
   "cell_type": "markdown",
   "id": "0747a274",
   "metadata": {},
   "source": [
    "# AP CSP 3.4 — Python Strings: Free-Response Quiz\n",
    "\n",
    "This quiz focuses only on Python string operations (no JavaScript). Type your answers and click Check Answers.\n",
    "- Case-insensitive where appropriate\n",
    "- Quotes around answers are optional\n",
    "- True/False accepts yes/no, t/f, 1/0"
   ]
  },
  {
   "cell_type": "code",
   "execution_count": 2,
   "id": "91537994",
   "metadata": {},
   "outputs": [
    {
     "name": "stdout",
     "output_type": "stream",
     "text": [
      "🐍 Python Strings — Free-Response Quiz\n",
      "Answer the questions below and click Check Answers.\n",
      "\n"
     ]
    },
    {
     "data": {
      "application/vnd.jupyter.widget-view+json": {
       "model_id": "ec8fd2fae81f44809d818b7f4d1d9020",
       "version_major": 2,
       "version_minor": 0
      },
      "text/plain": [
       "HTML(value=\"<b>1. What does 'hello'[1:4] return?</b>\")"
      ]
     },
     "metadata": {},
     "output_type": "display_data"
    },
    {
     "data": {
      "application/vnd.jupyter.widget-view+json": {
       "model_id": "44dfe1c63ade4c90a6a7c2022a04800d",
       "version_major": 2,
       "version_minor": 0
      },
      "text/plain": [
       "Text(value='', placeholder='e.g., ell')"
      ]
     },
     "metadata": {},
     "output_type": "display_data"
    },
    {
     "data": {
      "application/vnd.jupyter.widget-view+json": {
       "model_id": "e9d699a025fb4d71b82581312065632b",
       "version_major": 2,
       "version_minor": 0
      },
      "text/plain": [
       "HTML(value=\"<b>2. What is len('Escape Room')?</b>\")"
      ]
     },
     "metadata": {},
     "output_type": "display_data"
    },
    {
     "data": {
      "application/vnd.jupyter.widget-view+json": {
       "model_id": "182eec98bd5b4641a95853146d2616dc",
       "version_major": 2,
       "version_minor": 0
      },
      "text/plain": [
       "Text(value='', placeholder='Enter a number')"
      ]
     },
     "metadata": {},
     "output_type": "display_data"
    },
    {
     "data": {
      "application/vnd.jupyter.widget-view+json": {
       "model_id": "13f6a731accd4d378c9e686e49a6ad76",
       "version_major": 2,
       "version_minor": 0
      },
      "text/plain": [
       "HTML(value=\"<b>3. What does 'Python'.lower() return?</b>\")"
      ]
     },
     "metadata": {},
     "output_type": "display_data"
    },
    {
     "data": {
      "application/vnd.jupyter.widget-view+json": {
       "model_id": "752388c553654c888c3e908c2719d448",
       "version_major": 2,
       "version_minor": 0
      },
      "text/plain": [
       "Text(value='', placeholder='e.g., python')"
      ]
     },
     "metadata": {},
     "output_type": "display_data"
    },
    {
     "data": {
      "application/vnd.jupyter.widget-view+json": {
       "model_id": "0905ebacc4804ab08489301f24ab6bc4",
       "version_major": 2,
       "version_minor": 0
      },
      "text/plain": [
       "HTML(value=\"<b>4. If s = '   CS Rocks!  ', what does s.strip() return?</b>\")"
      ]
     },
     "metadata": {},
     "output_type": "display_data"
    },
    {
     "data": {
      "application/vnd.jupyter.widget-view+json": {
       "model_id": "9dbba7bb0c4947a8bc5c223b4016584a",
       "version_major": 2,
       "version_minor": 0
      },
      "text/plain": [
       "Text(value='', placeholder='e.g., CS Rocks!')"
      ]
     },
     "metadata": {},
     "output_type": "display_data"
    },
    {
     "data": {
      "application/vnd.jupyter.widget-view+json": {
       "model_id": "45249c986a66415ea20e417283d8c152",
       "version_major": 2,
       "version_minor": 0
      },
      "text/plain": [
       "HTML(value=\"<b>5. Does 'algorithm' start with 'algo'?</b> (True/False)\")"
      ]
     },
     "metadata": {},
     "output_type": "display_data"
    },
    {
     "data": {
      "application/vnd.jupyter.widget-view+json": {
       "model_id": "b4c26bd63d184783859c943a170d8738",
       "version_major": 2,
       "version_minor": 0
      },
      "text/plain": [
       "Text(value='', placeholder='True/False')"
      ]
     },
     "metadata": {},
     "output_type": "display_data"
    },
    {
     "data": {
      "application/vnd.jupyter.widget-view+json": {
       "model_id": "b2ddae9166e741fbb1683b7a573abdfb",
       "version_major": 2,
       "version_minor": 0
      },
      "text/plain": [
       "HTML(value=\"<b>6. What is 'banana'.count('an')?</b>\")"
      ]
     },
     "metadata": {},
     "output_type": "display_data"
    },
    {
     "data": {
      "application/vnd.jupyter.widget-view+json": {
       "model_id": "192868ebd3a3499baec37f0ae1a240a1",
       "version_major": 2,
       "version_minor": 0
      },
      "text/plain": [
       "Text(value='', placeholder='Enter a number')"
      ]
     },
     "metadata": {},
     "output_type": "display_data"
    },
    {
     "data": {
      "application/vnd.jupyter.widget-view+json": {
       "model_id": "ca064b3321384236b1981ee0037ed4de",
       "version_major": 2,
       "version_minor": 0
      },
      "text/plain": [
       "HTML(value=\"<b>7. What index does 'debuggers'.find('bug') return?</b>\")"
      ]
     },
     "metadata": {},
     "output_type": "display_data"
    },
    {
     "data": {
      "application/vnd.jupyter.widget-view+json": {
       "model_id": "7b406c43c5dc4364bedc37179ad39ab7",
       "version_major": 2,
       "version_minor": 0
      },
      "text/plain": [
       "Text(value='', placeholder='Enter a number')"
      ]
     },
     "metadata": {},
     "output_type": "display_data"
    },
    {
     "data": {
      "application/vnd.jupyter.widget-view+json": {
       "model_id": "bd653d41d213440aa6bb249f131ba831",
       "version_major": 2,
       "version_minor": 0
      },
      "text/plain": [
       "Button(button_style='success', description='Check Answers', icon='check', style=ButtonStyle())"
      ]
     },
     "metadata": {},
     "output_type": "display_data"
    },
    {
     "data": {
      "application/vnd.jupyter.widget-view+json": {
       "model_id": "38463a571dfa46e795ae6dbc1d0cd4f6",
       "version_major": 2,
       "version_minor": 0
      },
      "text/plain": [
       "Output()"
      ]
     },
     "metadata": {},
     "output_type": "display_data"
    }
   ],
   "source": [
    "# Python-only Strings Quiz\n",
    "from IPython.display import display, HTML, Javascript\n",
    "import ipywidgets as widgets\n",
    "\n",
    "print(\"🐍 Python Strings — Free-Response Quiz\")\n",
    "print(\"Answer the questions below and click Check Answers.\\n\")\n",
    "\n",
    "# Q1: Slice\n",
    "q1_label = widgets.HTML(\"<b>1. What does 'hello'[1:4] return?</b>\")\n",
    "q1 = widgets.Text(placeholder='e.g., ell')\n",
    "\n",
    "# Q2: Length\n",
    "q2_label = widgets.HTML(\"<b>2. What is len('Escape Room')?</b>\")\n",
    "q2 = widgets.Text(placeholder='Enter a number')\n",
    "\n",
    "# Q3: Lowercase\n",
    "q3_label = widgets.HTML(\"<b>3. What does 'Python'.lower() return?</b>\")\n",
    "q3 = widgets.Text(placeholder='e.g., python')\n",
    "\n",
    "# Q4: Strip\n",
    "q4_label = widgets.HTML(\"<b>4. If s = '   CS Rocks!  ', what does s.strip() return?</b>\")\n",
    "q4 = widgets.Text(placeholder='e.g., CS Rocks!')\n",
    "\n",
    "# Q5: startswith (True/False)\n",
    "q5_label = widgets.HTML(\"<b>5. Does 'algorithm' start with 'algo'?</b> (True/False)\")\n",
    "q5 = widgets.Text(placeholder='True/False')\n",
    "\n",
    "# Q6: count\n",
    "q6_label = widgets.HTML(\"<b>6. What is 'banana'.count('an')?</b>\")\n",
    "q6 = widgets.Text(placeholder='Enter a number')\n",
    "\n",
    "# Q7: find\n",
    "q7_label = widgets.HTML(\"<b>7. What index does 'debuggers'.find('bug') return?</b>\")\n",
    "q7 = widgets.Text(placeholder='Enter a number')\n",
    "\n",
    "submit_btn = widgets.Button(description='Check Answers', button_style='success', icon='check')\n",
    "output = widgets.Output()\n",
    "\n",
    "def parse_bool_like(s: str):\n",
    "    v = s.strip().lower()\n",
    "    if v in {'true','t','yes','y','1'}: return True\n",
    "    if v in {'false','f','no','n','0'}: return False\n",
    "    return None\n",
    "\n",
    "def strip_quotes(s: str):\n",
    "    return s.strip().strip(\"'\").strip('\"')\n",
    "\n",
    "def clean_str(s: str):\n",
    "    return strip_quotes(s).strip()\n",
    "\n",
    "def check_answers(btn):\n",
    "    with output:\n",
    "        output.clear_output()\n",
    "        score, total = 0, 7\n",
    "        print('📊 QUIZ RESULTS')\n",
    "        print('='*40)\n",
    "\n",
    "        # Q1\n",
    "        a1 = clean_str(q1.value).lower()\n",
    "        if a1 == 'ell':\n",
    "            score += 1; print('✅ Q1: CORRECT')\n",
    "        else:\n",
    "            print('❌ Q1: INCORRECT — Correct: ell')\n",
    "\n",
    "        # Q2 (len of 'Escape Room' is 11)\n",
    "        a2 = clean_str(q2.value)\n",
    "        if a2.isdigit() and int(a2) == 11:\n",
    "            score += 1; print('✅ Q2: CORRECT')\n",
    "        else:\n",
    "            print('❌ Q2: INCORRECT — Correct: 11 (spaces count)')\n",
    "\n",
    "        # Q3\n",
    "        a3 = clean_str(q3.value).lower()\n",
    "        if a3 == 'python':\n",
    "            score += 1; print('✅ Q3: CORRECT')\n",
    "        else:\n",
    "            print(\"❌ Q3: INCORRECT — Correct: python\")\n",
    "\n",
    "        # Q4\n",
    "        a4 = strip_quotes(q4.value)\n",
    "        if a4 == 'CS Rocks!':\n",
    "            score += 1; print('✅ Q4: CORRECT')\n",
    "        else:\n",
    "            print(\"❌ Q4: INCORRECT — Correct: CS Rocks!\")\n",
    "\n",
    "        # Q5\n",
    "        a5 = parse_bool_like(q5.value)\n",
    "        if a5 is None:\n",
    "            print('⚠️ Q5: Could not parse. Please answer True/False.')\n",
    "        elif a5 is True:\n",
    "            score += 1; print('✅ Q5: CORRECT')\n",
    "        else:\n",
    "            print(\"❌ Q5: INCORRECT — Correct: True\")\n",
    "\n",
    "        # Q6\n",
    "        a6 = clean_str(q6.value)\n",
    "        if a6.isdigit() and int(a6) == 2:\n",
    "            score += 1; print('✅ Q6: CORRECT')\n",
    "        else:\n",
    "            print(\"❌ Q6: INCORRECT — Correct: 2\")\n",
    "\n",
    "        # Q7 ('debuggers'.find('bug') is 2)\n",
    "        a7 = clean_str(q7.value)\n",
    "        if a7.isdigit() and int(a7) == 2:\n",
    "            score += 1; print('✅ Q7: CORRECT')\n",
    "        else:\n",
    "            print(\"❌ Q7: INCORRECT — Correct: 2\")\n",
    "\n",
    "        print('='*40)\n",
    "        print(f'🎯 Your Score: {score}/{total}')\n",
    "        print(f'📈 Percentage: {score/total*100:.1f}%')\n",
    "        try:\n",
    "            display(Javascript(\"localStorage.setItem('csp34_hw_py_quiz_tried','true');\"))\n",
    "        except Exception:\n",
    "            pass\n",
    "\n",
    "submit_btn.on_click(check_answers)\n",
    "\n",
    "display(q1_label, q1, q2_label, q2, q3_label, q3, q4_label, q4, q5_label, q5, q6_label, q6, q7_label, q7, submit_btn, output)"
   ]
  },
  {
   "cell_type": "code",
   "execution_count": 1,
   "id": "24205713",
   "metadata": {},
   "outputs": [
    {
     "name": "stdout",
     "output_type": "stream",
     "text": [
      "=== Python Bio Generator ===\n",
      "\n",
      "=== Generated Usernames ===\n",
      "1. \n",
      "2. \n",
      "3. \n",
      "\n",
      "=== Bio Versions ===\n",
      "Short Bio (Twitter):\n",
      "  ''\n",
      "  Characters: \n",
      "\n",
      "Medium Bio (Instagram):\n",
      "  ''\n",
      "  Characters: , Words: \n",
      "\n",
      "Professional Bio (LinkedIn):\n",
      "  ''\n",
      "\n",
      "=== Suggested Hashtags ===\n",
      "\n",
      "\n",
      "=== Bio Analysis ===\n",
      "✓ Meets Twitter limit: \n",
      "✓ Includes emojis/symbols: \n",
      "✓ Has hashtags: \n",
      "\n",
      "🎯 Your Creative Tagline: 'Passionate about ___'\n"
     ]
    }
   ],
   "source": [
    "# Social Media Bio Generator\n",
    "print(\"=== Python Bio Generator ===\")\n",
    "\n",
    "# Step 1: User information\n",
    "first_name = \"___\"  # <-- Student fills in their first name\n",
    "last_name = \"___\"   # <-- Student fills in their last name\n",
    "interests = \"___\"   # <-- Student lists interests (e.g., \"coding, music, sports\")\n",
    "\n",
    "# Step 2: Generate username variants\n",
    "username1 = ___  # first_name + last_name (lowercase)\n",
    "username2 = ___  # first_name[0] + last_name (lowercase)  \n",
    "username3 = ___  # first_name + \"_\" + last_name[:3] (lowercase)\n",
    "\n",
    "# Step 3: Create bio sections\n",
    "# Capitalize names properly\n",
    "proper_name = ___\n",
    "\n",
    "# Process interests into a nice format\n",
    "interest_list = ___  # Split interests string\n",
    "formatted_interests = ___\n",
    "\n",
    "# Step 4: Generate hashtags from interests\n",
    "bio_hashtags = []\n",
    "for interest in interest_list:\n",
    "    clean_interest = interest.strip().lower()\n",
    "    if len(clean_interest) > 2:\n",
    "        bio_hashtags.append(\"#\" + clean_interest)\n",
    "\n",
    "# Step 5: Create different bio versions\n",
    "# Short bio (for Twitter/X)\n",
    "short_bio = ___  # \"Name | Interests\"\n",
    "\n",
    "# Medium bio (for Instagram)\n",
    "medium_bio = ___  # \"Proper Name ✨\\nPassionate about: formatted_interests\"\n",
    "\n",
    "# Professional bio (for LinkedIn)\n",
    "professional_bio = ___  # \"First Name Last Name | Interested in formatted_interests\"\n",
    "\n",
    "# Step 6: Bio statistics\n",
    "total_chars_short = ___\n",
    "total_chars_medium = ___\n",
    "total_words_medium = ___\n",
    "\n",
    "# Step 7: Check bio guidelines\n",
    "meets_twitter_limit = ___  # <= 160 chars\n",
    "has_emojis = ___  # Check if contains emoji-like symbols\n",
    "has_hashtags = ___\n",
    "\n",
    "# Step 8: Print generated content\n",
    "print(f\"\\n=== Generated Usernames ===\")\n",
    "print(f\"1. {username1}\")\n",
    "print(f\"2. {username2}\") \n",
    "print(f\"3. {username3}\")\n",
    "\n",
    "print(f\"\\n=== Bio Versions ===\")\n",
    "print(\"Short Bio (Twitter):\")\n",
    "print(f\"  '{short_bio}'\")\n",
    "print(f\"  Characters: {total_chars_short}\")\n",
    "\n",
    "print(\"\\nMedium Bio (Instagram):\")\n",
    "print(f\"  '{medium_bio}'\")\n",
    "print(f\"  Characters: {total_chars_medium}, Words: {total_words_medium}\")\n",
    "\n",
    "print(\"\\nProfessional Bio (LinkedIn):\")\n",
    "print(f\"  '{professional_bio}'\")\n",
    "\n",
    "print(f\"\\n=== Suggested Hashtags ===\")\n",
    "print(\", \".join(bio_hashtags))\n",
    "\n",
    "print(f\"\\n=== Bio Analysis ===\")\n",
    "print(f\"✓ Meets Twitter limit: {meets_twitter_limit}\")\n",
    "print(f\"✓ Includes emojis/symbols: {has_emojis}\")\n",
    "print(f\"✓ Has hashtags: {has_hashtags}\")\n",
    "\n",
    "# Step 9: Creative challenge - Generate a fun tagline\n",
    "words = interests.split(\",\")\n",
    "if len(words) >= 2:\n",
    "    tagline = f\"{words[0].strip()} by day, {words[1].strip()} by night\"\n",
    "else:\n",
    "    tagline = f\"Passionate about {interests}\"\n",
    "    \n",
    "print(f\"\\n🎯 Your Creative Tagline: '{tagline}'\")"
   ]
  }
 ],
 "metadata": {
  "kernelspec": {
   "display_name": "venv (3.12.11)",
   "language": "python",
   "name": "python3"
  },
  "language_info": {
   "codemirror_mode": {
    "name": "ipython",
    "version": 3
   },
   "file_extension": ".py",
   "mimetype": "text/x-python",
   "name": "python",
   "nbconvert_exporter": "python",
   "pygments_lexer": "ipython3",
   "version": "3.12.11"
  }
 },
 "nbformat": 4,
 "nbformat_minor": 5
}
